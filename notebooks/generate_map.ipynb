{
 "cells": [
  {
   "cell_type": "code",
   "execution_count": 1,
   "metadata": {},
   "outputs": [
    {
     "ename": "ModuleNotFoundError",
     "evalue": "No module named 'mpl_toolkits.basemap'",
     "output_type": "error",
     "traceback": [
      "\u001b[0;31m---------------------------------------------------------------------------\u001b[0m",
      "\u001b[0;31mModuleNotFoundError\u001b[0m                       Traceback (most recent call last)",
      "\u001b[0;32m<ipython-input-1-b96de5f5b242>\u001b[0m in \u001b[0;36m<module>\u001b[0;34m\u001b[0m\n\u001b[0;32m----> 1\u001b[0;31m \u001b[0;32mfrom\u001b[0m \u001b[0mmpl_toolkits\u001b[0m\u001b[0;34m.\u001b[0m\u001b[0mbasemap\u001b[0m \u001b[0;32mimport\u001b[0m \u001b[0mBasemap\u001b[0m\u001b[0;34m\u001b[0m\u001b[0;34m\u001b[0m\u001b[0m\n\u001b[0m\u001b[1;32m      2\u001b[0m \u001b[0;32mimport\u001b[0m \u001b[0mmatplotlib\u001b[0m\u001b[0;34m.\u001b[0m\u001b[0mpyplot\u001b[0m \u001b[0;32mas\u001b[0m \u001b[0mplt\u001b[0m\u001b[0;34m\u001b[0m\u001b[0;34m\u001b[0m\u001b[0m\n\u001b[1;32m      3\u001b[0m \u001b[0;32mimport\u001b[0m \u001b[0mnumpy\u001b[0m \u001b[0;32mas\u001b[0m \u001b[0mnp\u001b[0m\u001b[0;34m\u001b[0m\u001b[0;34m\u001b[0m\u001b[0m\n\u001b[1;32m      4\u001b[0m \u001b[0;32mimport\u001b[0m \u001b[0mpandas\u001b[0m\u001b[0;34m\u001b[0m\u001b[0;34m\u001b[0m\u001b[0m\n\u001b[1;32m      5\u001b[0m \u001b[0;34m\u001b[0m\u001b[0m\n",
      "\u001b[0;31mModuleNotFoundError\u001b[0m: No module named 'mpl_toolkits.basemap'"
     ]
    }
   ],
   "source": [
    "from mpl_toolkits.basemap import Basemap\n",
    "import matplotlib.pyplot as plt\n",
    "import numpy as np\n",
    "import pandas\n",
    "\n",
    "def to_decimal_coords(old_coordinates):\n",
    "    '''converts coordinates in the format degrees:minutes:seconds to decimal degrees'''\n",
    "    components = old_coordinates.split(':')\n",
    "    value=float(components[0])+(float(components[1])/60.0)+(float(components[2])/3600.0)\n",
    "    return value\n",
    "\n",
    "\n",
    "map = Basemap(llcrnrlon=-11.,llcrnrlat=35.,urcrnrlon=25.,urcrnrlat=62.,\\\n",
    "            rsphere=(6378137.00,6356752.3142),\\\n",
    "            resolution='l',projection='merc',\\\n",
    "            lat_0=45.,lon_0=0.,lat_ts=20.)\n",
    "\n",
    "df = pandas.read_csv(\"all_stations.csv\")\n",
    "\n",
    "# convert coordinates to decimal\n",
    "df['decimal_lat']=df['lat'].apply(to_decimal_coords)\n",
    "df['decimal_lon']=df['lon'].apply(to_decimal_coords)\n",
    "df['Name']=df['Name'].str.strip()\n",
    "df['Name']=df['Name'].str.split().str.get(0)\n",
    "df.sort_values(by=['Name'],inplace=True)\n",
    "\n",
    "# draw coastlines and country boundaries\n",
    "map.drawcoastlines()\n",
    "map.drawcountries()\n",
    "\n",
    "# fill in the land green and water blue\n",
    "map.fillcontinents(color = 'green',lake_color='blue')\n",
    "map.drawmapboundary(fill_color='blue')\n",
    "\n",
    "# draw lat/lon grid lines every 5 degrees\n",
    "map.drawmeridians(np.arange(0, 360, 5))\n",
    "map.drawparallels(np.arange(-90, 90, 5))\n",
    "\n",
    "\n",
    "x,y = map(df['decimal_lon'].tolist(),df['decimal_lat'].tolist())\n",
    "\n",
    "#create a string with all the place names\n",
    "name_label=[]\n",
    "for name,idx in zip(df['Name'].tolist(),range(len(x))):\n",
    "    name_label.append(str(idx+1) + \". \" + name.capitalize() + \"\\n\")\n",
    "\n",
    "# plot filled circles at the locations of the cities.\n",
    "map.plot(x,y,'ro',label=str(''.join(name_label)))\n",
    "\n",
    "# plot the names of those five cities.\n",
    "for name,xpt,ypt,idx in zip(df['Name'].tolist(),x,y,range(len(x))):\n",
    "        plt.text(xpt+85000,ypt+35000,idx+1,backgroundcolor='white')\n",
    "\n",
    "plt.legend(loc='lower left')\n",
    "#plt.savefig(\"map.pdf\",dpi=600,bbox_inches='tight')\n",
    "plt.show()\n"
   ]
  },
  {
   "cell_type": "code",
   "execution_count": null,
   "metadata": {},
   "outputs": [],
   "source": []
  }
 ],
 "metadata": {
  "kernelspec": {
   "display_name": "Python 3",
   "language": "python",
   "name": "python3"
  },
  "language_info": {
   "codemirror_mode": {
    "name": "ipython",
    "version": 3
   },
   "file_extension": ".py",
   "mimetype": "text/x-python",
   "name": "python",
   "nbconvert_exporter": "python",
   "pygments_lexer": "ipython3",
   "version": "3.7.3"
  }
 },
 "nbformat": 4,
 "nbformat_minor": 2
}
